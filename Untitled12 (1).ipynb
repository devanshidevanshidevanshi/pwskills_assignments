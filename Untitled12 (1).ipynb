{
 "cells": [
  {
   "cell_type": "code",
   "execution_count": 1,
   "id": "1ef4a4fe",
   "metadata": {},
   "outputs": [],
   "source": [
    "import pandas as pd\n",
    "import numpy as np\n",
    "import matplotlib.pyplot as plt\n",
    "import seaborn as sns"
   ]
  },
  {
   "cell_type": "code",
   "execution_count": 2,
   "id": "712078d9",
   "metadata": {},
   "outputs": [],
   "source": [
    "listy = [('Sachin Tendulkar', 34357), ('Ricky Ponting', 27483), ('Jack Kallis', 25534), ('Virat Kohli', 24936)]"
   ]
  },
  {
   "cell_type": "code",
   "execution_count": 3,
   "id": "6a0e08d0",
   "metadata": {},
   "outputs": [],
   "source": [
    "sort_data = sorted(listy, key = lambda a : a[1])"
   ]
  },
  {
   "cell_type": "code",
   "execution_count": 4,
   "id": "67769478",
   "metadata": {},
   "outputs": [
    {
     "data": {
      "text/plain": [
       "[('Virat Kohli', 24936),\n",
       " ('Jack Kallis', 25534),\n",
       " ('Ricky Ponting', 27483),\n",
       " ('Sachin Tendulkar', 34357)]"
      ]
     },
     "execution_count": 4,
     "metadata": {},
     "output_type": "execute_result"
    }
   ],
   "source": [
    "sort_data"
   ]
  },
  {
   "cell_type": "code",
   "execution_count": 5,
   "id": "bfe9b028",
   "metadata": {},
   "outputs": [
    {
     "data": {
      "text/plain": [
       "'\\nQ2. Write a Python Program to find the squares of all the numbers in the given list of integers using\\nlambda and map functions.\\n[1, 2, 3, 4, 5, 6, 7, 8, 9, 10]\\n'"
      ]
     },
     "execution_count": 5,
     "metadata": {},
     "output_type": "execute_result"
    }
   ],
   "source": [
    "'''\n",
    "Q2. Write a Python Program to find the squares of all the numbers in the given list of integers using\n",
    "lambda and map functions.\n",
    "[1, 2, 3, 4, 5, 6, 7, 8, 9, 10]\n",
    "'''"
   ]
  },
  {
   "cell_type": "code",
   "execution_count": 6,
   "id": "a4b095f2",
   "metadata": {},
   "outputs": [],
   "source": [
    "listy=[1, 2, 3, 4, 5, 6, 7, 8, 9, 10]\n"
   ]
  },
  {
   "cell_type": "code",
   "execution_count": 7,
   "id": "ec9b32a8",
   "metadata": {},
   "outputs": [
    {
     "data": {
      "text/plain": [
       "[1, 4, 9, 16, 25, 36, 49, 64, 81, 100]"
      ]
     },
     "execution_count": 7,
     "metadata": {},
     "output_type": "execute_result"
    }
   ],
   "source": [
    "list(map(lambda a : a**2,listy))"
   ]
  },
  {
   "cell_type": "code",
   "execution_count": null,
   "id": "fe68c08d",
   "metadata": {},
   "outputs": [],
   "source": [
    "'''\n",
    "Q3. Write a python program to convert the given list of integers into a tuple of strings. Use map and\n",
    "lambda functions\n",
    "Given String: [1, 2, 3, 4, 5, 6, 7, 8, 9, 10]\n",
    "Expected output: ('1', '2', '3', '4', '5', '6', '7', '8', '9', '10')\n",
    "'''"
   ]
  },
  {
   "cell_type": "code",
   "execution_count": 8,
   "id": "c0f4aa35",
   "metadata": {},
   "outputs": [],
   "source": [
    "s=[1, 2, 3, 4, 5, 6, 7, 8, 9, 10]\n"
   ]
  },
  {
   "cell_type": "code",
   "execution_count": 10,
   "id": "8f035039",
   "metadata": {},
   "outputs": [
    {
     "data": {
      "text/plain": [
       "('1', '2', '3', '4', '5', '6', '7', '8', '9', '10')"
      ]
     },
     "execution_count": 10,
     "metadata": {},
     "output_type": "execute_result"
    }
   ],
   "source": [
    "tuple(map(lambda a: str(a),s))"
   ]
  },
  {
   "cell_type": "code",
   "execution_count": null,
   "id": "119496fb",
   "metadata": {},
   "outputs": [],
   "source": [
    "'''\n",
    "Write a python program using reduce function to compute the product of a list containing numbers\n",
    "from 1 to 25.\n",
    "'''"
   ]
  },
  {
   "cell_type": "code",
   "execution_count": 11,
   "id": "8c642ac1",
   "metadata": {},
   "outputs": [],
   "source": [
    "l = range(1,26)"
   ]
  },
  {
   "cell_type": "code",
   "execution_count": 12,
   "id": "77decf73",
   "metadata": {},
   "outputs": [],
   "source": [
    "from functools import reduce"
   ]
  },
  {
   "cell_type": "code",
   "execution_count": 13,
   "id": "50b95105",
   "metadata": {},
   "outputs": [
    {
     "data": {
      "text/plain": [
       "15511210043330985984000000"
      ]
     },
     "execution_count": 13,
     "metadata": {},
     "output_type": "execute_result"
    }
   ],
   "source": [
    "reduce(lambda a,b : a*b,l)"
   ]
  },
  {
   "cell_type": "code",
   "execution_count": null,
   "id": "5124824f",
   "metadata": {},
   "outputs": [],
   "source": [
    "'''\n",
    "Q5. Write a python program to filter the numbers in a given list that are divisible by 2 and 3 using the\n",
    "filter function.\n",
    "[2, 3, 6, 9, 27, 60, 90, 120, 55, 46]\n",
    "'''"
   ]
  },
  {
   "cell_type": "code",
   "execution_count": 16,
   "id": "0001be74",
   "metadata": {},
   "outputs": [],
   "source": [
    "fl = [2, 3, 6, 9, 27, 60, 90, 120, 55, 46]\n"
   ]
  },
  {
   "cell_type": "code",
   "execution_count": 19,
   "id": "83a33346",
   "metadata": {},
   "outputs": [
    {
     "data": {
      "text/plain": [
       "[6, 60, 90, 120]"
      ]
     },
     "execution_count": 19,
     "metadata": {},
     "output_type": "execute_result"
    }
   ],
   "source": [
    "list(filter(lambda a : a%2==0 and a%3==0,fl))"
   ]
  },
  {
   "cell_type": "code",
   "execution_count": null,
   "id": "5939c975",
   "metadata": {},
   "outputs": [],
   "source": [
    "'''\n",
    "Q6. Write a python program to find palindromes in the given list of strings using lambda and filter\n",
    "function.\n",
    "['python', 'php', 'aba', 'radar', 'level']\n",
    "'''"
   ]
  },
  {
   "cell_type": "code",
   "execution_count": 31,
   "id": "97afbef4",
   "metadata": {},
   "outputs": [
    {
     "data": {
      "text/plain": [
       "['php', 'aba', 'radar', 'level']"
      ]
     },
     "execution_count": 31,
     "metadata": {},
     "output_type": "execute_result"
    }
   ],
   "source": [
    "list(filter(lambda x : list(reversed(x)) == list(x),l))"
   ]
  },
  {
   "cell_type": "code",
   "execution_count": 30,
   "id": "d0106c00",
   "metadata": {},
   "outputs": [],
   "source": [
    "l = ['python', 'php', 'aba', 'radar', 'level']\n"
   ]
  },
  {
   "cell_type": "code",
   "execution_count": 32,
   "id": "bfb8a39e",
   "metadata": {},
   "outputs": [
    {
     "data": {
      "text/plain": [
       "'\\nExplain Class and Object with respect to Object-Oriented Programming. Give a suitable example.\\n- In object-oriented programming (OOP), a class is a blueprint or a template that defines the \\nproperties and behaviors of an object. It serves as a blueprint for creating instances of objects, \\nwhich are known as objects or instances of the class. A class encapsulates data (attributes) and \\nfunctions (methods) that operate on that data, providing a structure for organizing and managing code.\\n\\nAn object, on the other hand, is a specific instance of a class. It represents a unique entity \\nthat has its own state (values of attributes) and behavior (methods). Objects are created based on \\nthe defined class and can interact with each other by invoking methods and accessing attributes.\\n'"
      ]
     },
     "execution_count": 32,
     "metadata": {},
     "output_type": "execute_result"
    }
   ],
   "source": [
    "'''\n",
    "Explain Class and Object with respect to Object-Oriented Programming. Give a suitable example.\n",
    "- In object-oriented programming (OOP), a class is a blueprint or a template that defines the \n",
    "properties and behaviors of an object. It serves as a blueprint for creating instances of objects, \n",
    "which are known as objects or instances of the class. A class encapsulates data (attributes) and \n",
    "functions (methods) that operate on that data, providing a structure for organizing and managing code.\n",
    "\n",
    "An object, on the other hand, is a specific instance of a class. It represents a unique entity \n",
    "that has its own state (values of attributes) and behavior (methods). Objects are created based on \n",
    "the defined class and can interact with each other by invoking methods and accessing attributes.\n",
    "'''"
   ]
  },
  {
   "cell_type": "code",
   "execution_count": 33,
   "id": "906a0581",
   "metadata": {},
   "outputs": [
    {
     "data": {
      "text/plain": [
       "'\\nQ2. Name the four pillars of OOPs.\\nThe four pillars of OOPS are :\\n1- Encapsulation\\n2- Inheritance\\n3 - Abstarction\\n4 - Polymorphism\\n'"
      ]
     },
     "execution_count": 33,
     "metadata": {},
     "output_type": "execute_result"
    }
   ],
   "source": [
    "'''\n",
    "Q2. Name the four pillars of OOPs.\n",
    "The four pillars of OOPS are :\n",
    "1- Encapsulation\n",
    "2- Inheritance\n",
    "3 - Abstarction\n",
    "4 - Polymorphism\n",
    "'''"
   ]
  },
  {
   "cell_type": "code",
   "execution_count": null,
   "id": "d3e1449a",
   "metadata": {},
   "outputs": [],
   "source": [
    "'''\n",
    "Q3. Explain why the __init__() function is used. Give a suitable example.\n",
    "__init__() method is used to take parameters during class creation\n",
    "'''"
   ]
  },
  {
   "cell_type": "code",
   "execution_count": 34,
   "id": "e47f68b2",
   "metadata": {},
   "outputs": [],
   "source": [
    "class hello:\n",
    "    def __init__(self,hello,hi):\n",
    "        self.hello = hello\n",
    "        self.hi = hi\n",
    "    def return_par(self):\n",
    "        return self.hello, self.hi"
   ]
  },
  {
   "cell_type": "code",
   "execution_count": 36,
   "id": "957c400f",
   "metadata": {},
   "outputs": [],
   "source": [
    "obj = hello('Greetings','Salutations')"
   ]
  },
  {
   "cell_type": "code",
   "execution_count": 37,
   "id": "2e04fa24",
   "metadata": {},
   "outputs": [
    {
     "data": {
      "text/plain": [
       "'Greetings'"
      ]
     },
     "execution_count": 37,
     "metadata": {},
     "output_type": "execute_result"
    }
   ],
   "source": [
    "obj.hello"
   ]
  },
  {
   "cell_type": "code",
   "execution_count": 38,
   "id": "070b442c",
   "metadata": {},
   "outputs": [
    {
     "data": {
      "text/plain": [
       "'Salutations'"
      ]
     },
     "execution_count": 38,
     "metadata": {},
     "output_type": "execute_result"
    }
   ],
   "source": [
    "obj.hi"
   ]
  },
  {
   "cell_type": "code",
   "execution_count": 39,
   "id": "3f2b86b7",
   "metadata": {},
   "outputs": [
    {
     "data": {
      "text/plain": [
       "('Greetings', 'Salutations')"
      ]
     },
     "execution_count": 39,
     "metadata": {},
     "output_type": "execute_result"
    }
   ],
   "source": [
    "obj.return_par()"
   ]
  },
  {
   "cell_type": "code",
   "execution_count": null,
   "id": "e75d02aa",
   "metadata": {},
   "outputs": [],
   "source": [
    "'''\n",
    "Q4. Why self is used in OOPs?\n",
    "self binds a function to that specific class\n",
    "'''"
   ]
  },
  {
   "cell_type": "code",
   "execution_count": null,
   "id": "69ba0f12",
   "metadata": {},
   "outputs": [],
   "source": [
    "'''\n",
    "Q5. What is inheritance? Give an example for each type of inheritance.\n",
    "- the process in which one class inherits the functions and properties of another class\n",
    "- ie. from parent class to child class, is known as inheritance\n",
    "'''"
   ]
  },
  {
   "cell_type": "code",
   "execution_count": 40,
   "id": "d7aa8d7f",
   "metadata": {},
   "outputs": [],
   "source": [
    "class parent:\n",
    "    def p1(self):\n",
    "        return 'This is a function of the parent class'\n",
    "    def p2(self):\n",
    "        return 'This is the 2nd function of the parent class'\n",
    "    def p3(self):\n",
    "        return 'This is the 3rd function of the parent class'"
   ]
  },
  {
   "cell_type": "code",
   "execution_count": 44,
   "id": "86e04523",
   "metadata": {},
   "outputs": [],
   "source": [
    "class child(parent):\n",
    "    def c1(self):\n",
    "        return 'This is the function of the child class'\n",
    "    def c2(self):\n",
    "        return 'This is the 2nd function of the child class'"
   ]
  },
  {
   "cell_type": "code",
   "execution_count": 42,
   "id": "1e9d0e35",
   "metadata": {},
   "outputs": [],
   "source": [
    "obj1 = parent()"
   ]
  },
  {
   "cell_type": "code",
   "execution_count": 45,
   "id": "96c47693",
   "metadata": {},
   "outputs": [],
   "source": [
    "obj2 = child()"
   ]
  },
  {
   "cell_type": "code",
   "execution_count": 46,
   "id": "c14c353b",
   "metadata": {},
   "outputs": [
    {
     "data": {
      "text/plain": [
       "'This is a function of the parent class'"
      ]
     },
     "execution_count": 46,
     "metadata": {},
     "output_type": "execute_result"
    }
   ],
   "source": [
    "obj2.p1()"
   ]
  },
  {
   "cell_type": "code",
   "execution_count": 47,
   "id": "7351fdda",
   "metadata": {},
   "outputs": [
    {
     "data": {
      "text/plain": [
       "'This is the 2nd function of the parent class'"
      ]
     },
     "execution_count": 47,
     "metadata": {},
     "output_type": "execute_result"
    }
   ],
   "source": [
    "obj2.p2()"
   ]
  },
  {
   "cell_type": "code",
   "execution_count": 48,
   "id": "ec4a8861",
   "metadata": {},
   "outputs": [
    {
     "data": {
      "text/plain": [
       "'This is the 3rd function of the parent class'"
      ]
     },
     "execution_count": 48,
     "metadata": {},
     "output_type": "execute_result"
    }
   ],
   "source": [
    "obj2.p3()"
   ]
  },
  {
   "cell_type": "code",
   "execution_count": null,
   "id": "08d7e6b5",
   "metadata": {},
   "outputs": [],
   "source": []
  },
  {
   "cell_type": "code",
   "execution_count": null,
   "id": "7ec136dd",
   "metadata": {},
   "outputs": [],
   "source": []
  }
 ],
 "metadata": {
  "kernelspec": {
   "display_name": "Python 3 (ipykernel)",
   "language": "python",
   "name": "python3"
  },
  "language_info": {
   "codemirror_mode": {
    "name": "ipython",
    "version": 3
   },
   "file_extension": ".py",
   "mimetype": "text/x-python",
   "name": "python",
   "nbconvert_exporter": "python",
   "pygments_lexer": "ipython3",
   "version": "3.9.13"
  }
 },
 "nbformat": 4,
 "nbformat_minor": 5
}
